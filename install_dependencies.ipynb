{
  "nbformat": 4,
  "nbformat_minor": 0,
  "metadata": {
    "colab": {
      "name": "install_dependencies.ipynb",
      "version": "0.3.2",
      "provenance": [],
      "collapsed_sections": [],
      "include_colab_link": true
    },
    "kernelspec": {
      "name": "python2",
      "display_name": "Python 2"
    },
    "accelerator": "GPU"
  },
  "cells": [
    {
      "cell_type": "markdown",
      "metadata": {
        "id": "view-in-github",
        "colab_type": "text"
      },
      "source": [
        "<a href=\"https://colab.research.google.com/github/chandrakantkhandelwal/google_colab/blob/master/install_dependencies.ipynb\" target=\"_parent\"><img src=\"https://colab.research.google.com/assets/colab-badge.svg\" alt=\"Open In Colab\"/></a>"
      ]
    },
    {
      "metadata": {
        "id": "cLD3RJAQmEpr",
        "colab_type": "code",
        "colab": {}
      },
      "cell_type": "code",
      "source": [
        "!git clone https://github.com/tidsp/caffe-jacinto.git\n"
      ],
      "execution_count": 0,
      "outputs": []
    },
    {
      "metadata": {
        "id": "UE-VmMxotYQ3",
        "colab_type": "code",
        "colab": {}
      },
      "cell_type": "code",
      "source": [
        "%cd caffe-jacinto/"
      ],
      "execution_count": 0,
      "outputs": []
    },
    {
      "metadata": {
        "id": "THMvv2q_EOcC",
        "colab_type": "code",
        "colab": {}
      },
      "cell_type": "code",
      "source": [
        "!apt-get update"
      ],
      "execution_count": 0,
      "outputs": []
    },
    {
      "metadata": {
        "id": "7Hcc3RSbt9au",
        "colab_type": "code",
        "colab": {}
      },
      "cell_type": "code",
      "source": [
        "! apt-get install libprotobuf-dev libleveldb-dev libsnappy-dev libopencv-dev libhdf5-serial-dev protobuf-compiler"
      ],
      "execution_count": 0,
      "outputs": []
    },
    {
      "metadata": {
        "id": "MhXWbHuJvCVJ",
        "colab_type": "code",
        "colab": {}
      },
      "cell_type": "code",
      "source": [
        "! apt-get install libgflags-dev libgoogle-glog-dev liblmdb-dev"
      ],
      "execution_count": 0,
      "outputs": []
    },
    {
      "metadata": {
        "id": "21lFniC1zgni",
        "colab_type": "code",
        "colab": {}
      },
      "cell_type": "code",
      "source": [
        "! apt-get install libjpeg-dev libjpeg-turbo8-dev libjpeg8-dev libturbojpeg0-dev libmlpack-dev libnetcdf-dev libtiff5-dev"
      ],
      "execution_count": 0,
      "outputs": []
    },
    {
      "metadata": {
        "id": "q_IaMMfpAI_Y",
        "colab_type": "code",
        "colab": {}
      },
      "cell_type": "code",
      "source": [
        "! apt-get install libopencv-dev python-opencv"
      ],
      "execution_count": 0,
      "outputs": []
    },
    {
      "metadata": {
        "id": "fUYLJCUTF6pG",
        "colab_type": "code",
        "colab": {}
      },
      "cell_type": "code",
      "source": [
        "with open ('Makefile.config.example') as f:\n",
        "    config = f.read ()\n",
        "uncomment =['# USE_CUDNN := 1','# OPENCV_VERSION := 3', '# WITH_PYTHON_LAYER := 1']\n",
        "uncomment_replace =['USE_CUDNN := 1','OPENCV_VERSION := 3', 'WITH_PYTHON_LAYER := 1']\n",
        "for c1,c2 in zip(uncomment, uncomment_replace):\n",
        "    config = config.replace (c1, c2)\n",
        "with open ('Makefile.config', 'w') as f:\n",
        "    f.write (config)"
      ],
      "execution_count": 0,
      "outputs": []
    },
    {
      "metadata": {
        "id": "jc2QtYQ_Gnik",
        "colab_type": "code",
        "colab": {}
      },
      "cell_type": "code",
      "source": [
        "!cat Makefile.config #Verify that the changes made above are reflected in the Makefile"
      ],
      "execution_count": 0,
      "outputs": []
    },
    {
      "metadata": {
        "id": "hexroQLUvMPI",
        "colab_type": "code",
        "colab": {}
      },
      "cell_type": "code",
      "source": [
        "! make all -j8"
      ],
      "execution_count": 0,
      "outputs": []
    }
  ]
}