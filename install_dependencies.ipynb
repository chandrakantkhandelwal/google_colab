{
  "nbformat": 4,
  "nbformat_minor": 0,
  "metadata": {
    "colab": {
      "name": "install_dependencies.ipynb",
      "version": "0.3.2",
      "provenance": [],
      "collapsed_sections": [],
      "include_colab_link": true
    },
    "kernelspec": {
      "name": "python2",
      "display_name": "Python 2"
    },
    "accelerator": "GPU"
  },
  "cells": [
    {
      "cell_type": "markdown",
      "metadata": {
        "id": "view-in-github",
        "colab_type": "text"
      },
      "source": [
        "<a href=\"https://colab.research.google.com/github/chandrakantkhandelwal/google_colab/blob/master/install_dependencies.ipynb\" target=\"_parent\"><img src=\"https://colab.research.google.com/assets/colab-badge.svg\" alt=\"Open In Colab\"/></a>"
      ]
    },
    {
      "metadata": {
        "id": "cLD3RJAQmEpr",
        "colab_type": "code",
        "colab": {}
      },
      "cell_type": "code",
      "source": [
        "!git clone https://github.com/tidsp/caffe-jacinto.git\n"
      ],
      "execution_count": 0,
      "outputs": []
    },
    {
      "metadata": {
        "id": "UE-VmMxotYQ3",
        "colab_type": "code",
        "colab": {}
      },
      "cell_type": "code",
      "source": [
        "%cd caffe-jacinto/"
      ],
      "execution_count": 0,
      "outputs": []
    },
    {
      "metadata": {
        "id": "THMvv2q_EOcC",
        "colab_type": "code",
        "colab": {}
      },
      "cell_type": "code",
      "source": [
        "!apt-get update"
      ],
      "execution_count": 0,
      "outputs": []
    },
    {
      "metadata": {
        "id": "7Hcc3RSbt9au",
        "colab_type": "code",
        "colab": {}
      },
      "cell_type": "code",
      "source": [
        "! apt-get install libprotobuf-dev libleveldb-dev libsnappy-dev libopencv-dev libhdf5-serial-dev protobuf-compiler"
      ],
      "execution_count": 0,
      "outputs": []
    },
    {
      "metadata": {
        "id": "MhXWbHuJvCVJ",
        "colab_type": "code",
        "colab": {}
      },
      "cell_type": "code",
      "source": [
        "! apt-get install libgflags-dev libgoogle-glog-dev liblmdb-dev"
      ],
      "execution_count": 0,
      "outputs": []
    },
    {
      "metadata": {
        "id": "21lFniC1zgni",
        "colab_type": "code",
        "colab": {}
      },
      "cell_type": "code",
      "source": [
        "! apt-get install libjpeg-dev libjpeg-turbo8-dev libjpeg8-dev libturbojpeg0-dev libmlpack-dev libnetcdf-dev libtiff5-dev"
      ],
      "execution_count": 0,
      "outputs": []
    },
    {
      "metadata": {
        "id": "q_IaMMfpAI_Y",
        "colab_type": "code",
        "colab": {}
      },
      "cell_type": "code",
      "source": [
        "! apt-get install libopencv-dev python-opencv"
      ],
      "execution_count": 0,
      "outputs": []
    },
    {
      "metadata": {
        "id": "fUYLJCUTF6pG",
        "colab_type": "code",
        "colab": {}
      },
      "cell_type": "code",
      "source": [
        "with open ('Makefile.config.example') as f:\n",
        "    config = f.read ()\n",
        "uncomment =['# USE_CUDNN := 1','# OPENCV_VERSION := 3', '# WITH_PYTHON_LAYER := 1', '/usr/lib/python2.7/dist-packages/numpy/core/include']\n",
        "uncomment_replace =['USE_CUDNN := 1','OPENCV_VERSION := 3', 'WITH_PYTHON_LAYER := 1', '/usr/local/lib/python2.7/dist-packages/numpy/core/include']\n",
        "for c1,c2 in zip(uncomment, uncomment_replace):\n",
        "    config = config.replace (c1, c2)\n",
        "with open ('Makefile.config', 'w') as f:\n",
        "    f.write (config)"
      ],
      "execution_count": 0,
      "outputs": []
    },
    {
      "metadata": {
        "id": "jc2QtYQ_Gnik",
        "colab_type": "code",
        "colab": {}
      },
      "cell_type": "code",
      "source": [
        "!cat Makefile.config #Verify that the changes made above are reflected in the Makefile"
      ],
      "execution_count": 0,
      "outputs": []
    },
    {
      "metadata": {
        "id": "hexroQLUvMPI",
        "colab_type": "code",
        "colab": {
          "base_uri": "https://localhost:8080/",
          "height": 34
        },
        "outputId": "ec8f0114-1edf-4289-e52e-356752e03d30"
      },
      "cell_type": "code",
      "source": [
        "! make all -j8"
      ],
      "execution_count": 30,
      "outputs": [
        {
          "output_type": "stream",
          "text": [
            "make: Nothing to be done for 'all'.\n"
          ],
          "name": "stdout"
        }
      ]
    },
    {
      "metadata": {
        "id": "X632lDbpcrxl",
        "colab_type": "code",
        "colab": {
          "base_uri": "https://localhost:8080/",
          "height": 168
        },
        "outputId": "b743ad41-ab35-49b0-cbde-6618979f6992"
      },
      "cell_type": "code",
      "source": [
        "!ls"
      ],
      "execution_count": 18,
      "outputs": [
        {
          "output_type": "stream",
          "text": [
            "3rdparty\t distribute\t  Makefile.config.example  plot_train_loss.py\n",
            "build\t\t docker\t\t  MANIFEST.html\t\t   python\n",
            "classification\t docs\t\t  matlab\t\t   README.md\n",
            "cmake\t\t examples\t  models\t\t   scripts\n",
            "CMakeLists.txt\t include\t  NVCaffe-User-Guide.pdf   src\n",
            "common_plot.py\t INSTALL.md\t  packaging\t\t   tools\n",
            "CONTRIBUTING.md  LICENSE\t  plot_loss.py\n",
            "CONTRIBUTORS.md  Makefile\t  plot_top1.py\n",
            "data\t\t Makefile.config  plot_top5.py\n"
          ],
          "name": "stdout"
        }
      ]
    },
    {
      "metadata": {
        "id": "zVRZ_pEgb7Ny",
        "colab_type": "code",
        "colab": {
          "base_uri": "https://localhost:8080/",
          "height": 34
        },
        "outputId": "45a0c16e-9444-4b72-8b8a-7941d7ef4e66"
      },
      "cell_type": "code",
      "source": [
        "%cd python/"
      ],
      "execution_count": 21,
      "outputs": [
        {
          "output_type": "stream",
          "text": [
            "/content/caffe-jacinto/python\n"
          ],
          "name": "stdout"
        }
      ]
    },
    {
      "metadata": {
        "id": "EGRVDi63ck0W",
        "colab_type": "code",
        "colab": {}
      },
      "cell_type": "code",
      "source": [
        "!for req in $(cat requirements.txt); do pip install $req; done"
      ],
      "execution_count": 0,
      "outputs": []
    },
    {
      "metadata": {
        "id": "AV0Oqt4Lefcn",
        "colab_type": "code",
        "colab": {}
      },
      "cell_type": "code",
      "source": [
        "% cd .."
      ],
      "execution_count": 0,
      "outputs": []
    },
    {
      "metadata": {
        "id": "iJ2qzGznh6aO",
        "colab_type": "code",
        "colab": {
          "base_uri": "https://localhost:8080/",
          "height": 67
        },
        "outputId": "940428df-759a-4bf0-ab6d-8f732086a327"
      },
      "cell_type": "code",
      "source": [
        "!make pycaffe"
      ],
      "execution_count": 31,
      "outputs": [
        {
          "output_type": "stream",
          "text": [
            "CXX/LD -o python/caffe/_caffe.so .build_release/src/caffe/layers/python_layer.o\n",
            "touch python/caffe/proto/__init__.py\n",
            "PROTOC (python) src/caffe/proto/caffe.proto\n"
          ],
          "name": "stdout"
        }
      ]
    },
    {
      "metadata": {
        "id": "jvSla421iHOO",
        "colab_type": "code",
        "colab": {}
      },
      "cell_type": "code",
      "source": [
        "! export PYTHONPATH=$PYTHONPATH:/content/caffe-jacinto/python\n",
        "! export LD_LIBRARY_PATH=$LD_LIBRARY_PATH:/content/caffe-jacinto/build/lib"
      ],
      "execution_count": 0,
      "outputs": []
    },
    {
      "metadata": {
        "id": "5NToOr9EiGac",
        "colab_type": "code",
        "colab": {
          "base_uri": "https://localhost:8080/",
          "height": 34
        },
        "outputId": "a0a34ba8-ad45-4cef-e306-3d9bdeb6791f"
      },
      "cell_type": "code",
      "source": [
        "% cd .."
      ],
      "execution_count": 37,
      "outputs": [
        {
          "output_type": "stream",
          "text": [
            "/content\n"
          ],
          "name": "stdout"
        }
      ]
    },
    {
      "metadata": {
        "id": "dqX8WJGKiqZW",
        "colab_type": "code",
        "colab": {}
      },
      "cell_type": "code",
      "source": [
        "import caffe2"
      ],
      "execution_count": 0,
      "outputs": []
    }
  ]
}